{
 "cells": [
  {
   "cell_type": "markdown",
   "id": "311a48df",
   "metadata": {},
   "source": [
    "### **1. Prediction Function**\n",
    "\n",
    "$$\n",
    "\\hat{y} = X \\cdot \\mathbf{w} + b\n",
    "$$\n",
    "\n",
    "### **2. Mean Squared Error (MSE) Loss**\n",
    "\n",
    "$$\n",
    "\\mathcal{L} = \\frac{1}{n} \\sum_{i=1}^{n} (y_i - \\hat{y}_i)^2\n",
    "$$\n",
    "\n",
    "### **3. Gradient w\\.r.t Weights**\n",
    "\n",
    "$$\n",
    "\\frac{\\partial \\mathcal{L}}{\\partial \\mathbf{w}} = -\\frac{2}{n} X^T (y - \\hat{y})\n",
    "$$\n",
    "\n",
    "### **4. Gradient w\\.r.t Bias**\n",
    "\n",
    "$$\n",
    "\\frac{\\partial \\mathcal{L}}{\\partial b} = -\\frac{2}{n} \\sum_{i=1}^{n} (y_i - \\hat{y}_i)\n",
    "$$\n",
    "\n",
    "### **5. Weight Update Rule**\n",
    "\n",
    "$$\n",
    "\\mathbf{w} := \\mathbf{w} - \\alpha \\cdot \\frac{\\partial \\mathcal{L}}{\\partial \\mathbf{w}}\n",
    "$$\n",
    "\n",
    "### **6. Bias Update Rule**\n",
    "\n",
    "$$\n",
    "b := b - \\alpha \\cdot \\frac{\\partial \\mathcal{L}}{\\partial b}\n",
    "$$\n",
    "\n",
    "---\n"
   ]
  },
  {
   "cell_type": "code",
   "execution_count": 80,
   "id": "ede2d236",
   "metadata": {},
   "outputs": [],
   "source": [
    "import numpy as np"
   ]
  },
  {
   "cell_type": "code",
   "execution_count": 81,
   "id": "58595b3c",
   "metadata": {},
   "outputs": [],
   "source": [
    "class LinearRegressionBGD:\n",
    "    def __init__(self, lr = 0.01, n_iters = 10000):\n",
    "        self.lr = lr \n",
    "        self.n_iters = n_iters\n",
    "        self.weights = None \n",
    "        self.bias = None\n",
    "        \n",
    "    def fit(self, X, y):\n",
    "        n_samples, n_features = X.shape\n",
    "        self.weights = np.ones(n_features)\n",
    "        self.bias = 0\n",
    "        \n",
    "        for _ in range(self.n_iters):\n",
    "            y_hat = np.dot(X, self.weights) + self.bias \n",
    "            \n",
    "            dw = (1 / n_samples) * np.dot(X.T, (y_hat - y))\n",
    "            db = (1 / n_samples) * np.sum(y_hat - y)\n",
    "            \n",
    "            self.weights = self.weights - (self.lr * dw)\n",
    "            self.bias = self.bias - (self.lr * db)\n",
    "            \n",
    "    def predict(self, X):\n",
    "        y_pred = np.dot(X, self.weights) + self.bias\n",
    "        return y_pred"
   ]
  },
  {
   "cell_type": "code",
   "execution_count": null,
   "id": "cc315d41",
   "metadata": {},
   "outputs": [],
   "source": []
  }
 ],
 "metadata": {
  "kernelspec": {
   "display_name": "Python 3 (ipykernel)",
   "language": "python",
   "name": "python3"
  },
  "language_info": {
   "codemirror_mode": {
    "name": "ipython",
    "version": 3
   },
   "file_extension": ".py",
   "mimetype": "text/x-python",
   "name": "python",
   "nbconvert_exporter": "python",
   "pygments_lexer": "ipython3",
   "version": "3.11.8"
  }
 },
 "nbformat": 4,
 "nbformat_minor": 5
}

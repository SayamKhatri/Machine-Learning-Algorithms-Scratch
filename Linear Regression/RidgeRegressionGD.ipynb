{
 "cells": [
  {
   "cell_type": "code",
   "execution_count": 2,
   "id": "fc8db823",
   "metadata": {},
   "outputs": [],
   "source": [
    "class RidgeRegression:\n",
    "    def __init__(self, lr=0.01,n_iters=1000,lambda_ = 0.0):\n",
    "        self.lr = lr\n",
    "        self.n_iters = n_iters\n",
    "        self.lambda_ = lambda_\n",
    "        self.weights = None \n",
    "        self.bias = None\n",
    "        \n",
    "    def fit(self, X, y):\n",
    "        n_samples, n_features = X.shape\n",
    "        self.weights = np.ones(n_features)\n",
    "        self.bias = 0\n",
    "        \n",
    "        for _ in range(self.n_iters):\n",
    "            y_hat = np.dot(X, self.weights) + self.bias\n",
    "            dw = (1/n_samples) * (np.dot(X.T, (y_hat - y)) + self.lambda_ * self.weights)\n",
    "            db = (1/n_samples) * np.sum(y_hat - y)\n",
    "            \n",
    "            self.weights = self.weights - (self.lr * dw)\n",
    "            self.bias = self.bias - (self.lr * db)\n",
    "        \n",
    "    def predict(self, X):\n",
    "        y_hat = np.dot(X, self.weights) + self.bias\n",
    "        return y_hat"
   ]
  },
  {
   "cell_type": "code",
   "execution_count": null,
   "id": "cf7b270d",
   "metadata": {},
   "outputs": [],
   "source": []
  }
 ],
 "metadata": {
  "kernelspec": {
   "display_name": "Python 3 (ipykernel)",
   "language": "python",
   "name": "python3"
  },
  "language_info": {
   "codemirror_mode": {
    "name": "ipython",
    "version": 3
   },
   "file_extension": ".py",
   "mimetype": "text/x-python",
   "name": "python",
   "nbconvert_exporter": "python",
   "pygments_lexer": "ipython3",
   "version": "3.11.8"
  }
 },
 "nbformat": 4,
 "nbformat_minor": 5
}

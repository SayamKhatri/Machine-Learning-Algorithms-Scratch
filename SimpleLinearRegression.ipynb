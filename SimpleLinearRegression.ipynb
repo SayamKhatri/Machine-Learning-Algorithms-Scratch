{
 "cells": [
  {
   "cell_type": "markdown",
   "id": "95e0d9b8",
   "metadata": {},
   "source": [
    "# Simple Linear Regression From Scratch "
   ]
  },
  {
   "cell_type": "code",
   "execution_count": 56,
   "id": "bedf3646",
   "metadata": {},
   "outputs": [],
   "source": [
    "class SimpleLinearRegression:\n",
    "    def __init__(self):\n",
    "        self.beta_one = None\n",
    "        self.beta_not = None\n",
    "        \n",
    "    def fit(self, X_train, y_train):\n",
    "        x_bar = X_train.mean()\n",
    "        y_bar = y_train.mean()\n",
    "        \n",
    "        cov = 0 \n",
    "        var = 0 \n",
    "        \n",
    "        for i in range(X_train.shape[0]):\n",
    "            cov += (X_train.iloc[i] - x_bar) * (y_train.iloc[i] - y_bar)\n",
    "            var += (X_train.iloc[i] - x_bar)**2\n",
    "        \n",
    "        self.beta_one = cov / var\n",
    "        self.beta_not = y_bar - (self.beta_one * x_bar)\n",
    "        \n",
    "    def predict(self, X):\n",
    "        predictions = []\n",
    "        for i in range(X.shape):\n",
    "            y_hat = self.beta_not + (self.beta_one * X.iloc[i])\n",
    "            \n",
    "        return predictions   \n",
    "    \n",
    "    def coeff(self):\n",
    "        return (self.beta_not, self.beta_one)"
   ]
  },
  {
   "cell_type": "code",
   "execution_count": 57,
   "id": "be5a5456",
   "metadata": {},
   "outputs": [],
   "source": [
    "lr = SimpleLinearRegression()"
   ]
  },
  {
   "cell_type": "code",
   "execution_count": 58,
   "id": "0e91a695",
   "metadata": {},
   "outputs": [],
   "source": [
    "lr.fit(X_train, y_train)"
   ]
  },
  {
   "cell_type": "code",
   "execution_count": 59,
   "id": "95e598e6",
   "metadata": {},
   "outputs": [
    {
     "data": {
      "text/plain": [
       "(7.142913319458561, 2.459864731496056)"
      ]
     },
     "execution_count": 59,
     "metadata": {},
     "output_type": "execute_result"
    }
   ],
   "source": [
    "lr.beta_not[0], lr.beta_one[0]"
   ]
  },
  {
   "cell_type": "code",
   "execution_count": 2,
   "id": "1549f2e8",
   "metadata": {},
   "outputs": [
    {
     "data": {
      "image/png": "[encoded data removed]",
      "text/plain": [
       "<Figure size 640x480 with 1 Axes>"
      ]
     },
     "metadata": {},
     "output_type": "display_data"
    }
   ],
   "source": [
    "# Dummy Data \n",
    "\n",
    "import numpy as np\n",
    "import pandas as pd\n",
    "import matplotlib.pyplot as plt\n",
    "\n",
    "np.random.seed(42)\n",
    "\n",
    "X = np.random.rand(100, 1) * 10  \n",
    "true_slope = 2.5\n",
    "true_intercept = 7\n",
    "noise = np.random.randn(100, 1)  \n",
    "\n",
    "y = true_slope * X + true_intercept + noise\n",
    "\n",
    "df = pd.DataFrame({\n",
    "    'Feature': X.flatten(),\n",
    "    'Target': y.flatten()\n",
    "})\n",
    "\n",
    "\n",
    "plt.scatter(df['Feature'], df['Target'], color='blue', alpha=0.6)\n",
    "plt.title(\"Dummy Linear Regression Data\")\n",
    "plt.xlabel(\"Feature\")\n",
    "plt.ylabel(\"Target\")\n",
    "plt.grid(True)\n",
    "plt.show()"
   ]
  },
  {
   "cell_type": "code",
   "execution_count": 43,
   "id": "632e37b4",
   "metadata": {},
   "outputs": [],
   "source": [
    "X = df[['Feature']]\n",
    "y = df['Target']"
   ]
  },
  {
   "cell_type": "code",
   "execution_count": 44,
   "id": "4512e7a9",
   "metadata": {},
   "outputs": [],
   "source": [
    "from sklearn.model_selection import train_test_split\n",
    "\n",
    "X_train, X_test, y_train, y_test = train_test_split(X,y, test_size=0.2, random_state=42)"
   ]
  },
  {
   "cell_type": "code",
   "execution_count": 45,
   "id": "6cb3c9db",
   "metadata": {},
   "outputs": [
    {
     "data": {
      "text/plain": [
       "Feature    9.218742\n",
       "Name: 55, dtype: float64"
      ]
     },
     "execution_count": 45,
     "metadata": {},
     "output_type": "execute_result"
    }
   ],
   "source": [
    "X_train.iloc[0]"
   ]
  },
  {
   "cell_type": "code",
   "execution_count": 46,
   "id": "c710dfe5",
   "metadata": {},
   "outputs": [
    {
     "data": {
      "text/html": [
       "<div>\n",
       "<style scoped>\n",
       "    .dataframe tbody tr th:only-of-type {\n",
       "        vertical-align: middle;\n",
       "    }\n",
       "\n",
       "    .dataframe tbody tr th {\n",
       "        vertical-align: top;\n",
       "    }\n",
       "\n",
       "    .dataframe thead th {\n",
       "        text-align: right;\n",
       "    }\n",
       "</style>\n",
       "<table border=\"1\" class=\"dataframe\">\n",
       "  <thead>\n",
       "    <tr style=\"text-align: right;\">\n",
       "      <th></th>\n",
       "      <th>Feature</th>\n",
       "    </tr>\n",
       "  </thead>\n",
       "  <tbody>\n",
       "    <tr>\n",
       "      <th>55</th>\n",
       "      <td>9.218742</td>\n",
       "    </tr>\n",
       "    <tr>\n",
       "      <th>88</th>\n",
       "      <td>8.872127</td>\n",
       "    </tr>\n",
       "    <tr>\n",
       "      <th>26</th>\n",
       "      <td>1.996738</td>\n",
       "    </tr>\n",
       "    <tr>\n",
       "      <th>42</th>\n",
       "      <td>0.343885</td>\n",
       "    </tr>\n",
       "    <tr>\n",
       "      <th>69</th>\n",
       "      <td>9.868869</td>\n",
       "    </tr>\n",
       "    <tr>\n",
       "      <th>...</th>\n",
       "      <td>...</td>\n",
       "    </tr>\n",
       "    <tr>\n",
       "      <th>60</th>\n",
       "      <td>3.886773</td>\n",
       "    </tr>\n",
       "    <tr>\n",
       "      <th>71</th>\n",
       "      <td>1.987157</td>\n",
       "    </tr>\n",
       "    <tr>\n",
       "      <th>14</th>\n",
       "      <td>1.818250</td>\n",
       "    </tr>\n",
       "    <tr>\n",
       "      <th>92</th>\n",
       "      <td>7.607850</td>\n",
       "    </tr>\n",
       "    <tr>\n",
       "      <th>51</th>\n",
       "      <td>7.751328</td>\n",
       "    </tr>\n",
       "  </tbody>\n",
       "</table>\n",
       "<p>80 rows × 1 columns</p>\n",
       "</div>"
      ],
      "text/plain": [
       "     Feature\n",
       "55  9.218742\n",
       "88  8.872127\n",
       "26  1.996738\n",
       "42  0.343885\n",
       "69  9.868869\n",
       "..       ...\n",
       "60  3.886773\n",
       "71  1.987157\n",
       "14  1.818250\n",
       "92  7.607850\n",
       "51  7.751328\n",
       "\n",
       "[80 rows x 1 columns]"
      ]
     },
     "execution_count": 46,
     "metadata": {},
     "output_type": "execute_result"
    }
   ],
   "source": [
    "X_train "
   ]
  },
  {
   "cell_type": "code",
   "execution_count": 55,
   "id": "8ed96e44",
   "metadata": {},
   "outputs": [
    {
     "data": {
      "text/plain": [
       "7.142913319458563"
      ]
     },
     "execution_count": 55,
     "metadata": {},
     "output_type": "execute_result"
    }
   ],
   "source": []
  },
  {
   "cell_type": "code",
   "execution_count": null,
   "id": "1214c838",
   "metadata": {},
   "outputs": [],
   "source": []
  }
 ],
 "metadata": {
  "kernelspec": {
   "display_name": "Python 3 (ipykernel)",
   "language": "python",
   "name": "python3"
  },
  "language_info": {
   "codemirror_mode": {
    "name": "ipython",
    "version": 3
   },
   "file_extension": ".py",
   "mimetype": "text/x-python",
   "name": "python",
   "nbconvert_exporter": "python",
   "pygments_lexer": "ipython3",
   "version": "3.11.8"
  }
 },
 "nbformat": 4,
 "nbformat_minor": 5
}
